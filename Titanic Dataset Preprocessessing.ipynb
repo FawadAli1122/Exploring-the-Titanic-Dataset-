{
 "cells": [
  {
   "cell_type": "markdown",
   "id": "disabled-activity",
   "metadata": {},
   "source": [
    "## Import Pandas and Numpy Libraries"
   ]
  },
  {
   "cell_type": "code",
   "execution_count": 280,
   "id": "marked-keeping",
   "metadata": {},
   "outputs": [],
   "source": [
    "import pandas as pd\n",
    "import numpy as np"
   ]
  },
  {
   "cell_type": "code",
   "execution_count": 281,
   "id": "structural-ending",
   "metadata": {},
   "outputs": [
    {
     "name": "stdout",
     "output_type": "stream",
     "text": [
      "'assignment solution.docx'   hw1.pdf  'Titanic Dataset Preprocessessing.ipynb'\r\n",
      "'helpful for DL.txt'\t     titanic\r\n"
     ]
    }
   ],
   "source": [
    "!ls"
   ]
  },
  {
   "cell_type": "markdown",
   "id": "adjustable-christianity",
   "metadata": {},
   "source": [
    "## Loading train and test csv files. Then combining them together to get a combine dataset. Then calling .head() method to see the overview of the features"
   ]
  },
  {
   "cell_type": "code",
   "execution_count": 282,
   "id": "desperate-server",
   "metadata": {},
   "outputs": [],
   "source": [
    "train_df=pd.read_csv('titanic/train.csv')\n",
    "test_df=pd.read_csv('titanic/test.csv')"
   ]
  },
  {
   "cell_type": "code",
   "execution_count": 283,
   "id": "assisted-purchase",
   "metadata": {},
   "outputs": [],
   "source": [
    "combine = [train_df, test_df]"
   ]
  },
  {
   "cell_type": "code",
   "execution_count": 284,
   "id": "related-investigation",
   "metadata": {},
   "outputs": [
    {
     "data": {
      "text/html": [
       "<div>\n",
       "<style scoped>\n",
       "    .dataframe tbody tr th:only-of-type {\n",
       "        vertical-align: middle;\n",
       "    }\n",
       "\n",
       "    .dataframe tbody tr th {\n",
       "        vertical-align: top;\n",
       "    }\n",
       "\n",
       "    .dataframe thead th {\n",
       "        text-align: right;\n",
       "    }\n",
       "</style>\n",
       "<table border=\"1\" class=\"dataframe\">\n",
       "  <thead>\n",
       "    <tr style=\"text-align: right;\">\n",
       "      <th></th>\n",
       "      <th>PassengerId</th>\n",
       "      <th>Survived</th>\n",
       "      <th>Pclass</th>\n",
       "      <th>Name</th>\n",
       "      <th>Sex</th>\n",
       "      <th>Age</th>\n",
       "      <th>SibSp</th>\n",
       "      <th>Parch</th>\n",
       "      <th>Ticket</th>\n",
       "      <th>Fare</th>\n",
       "      <th>Cabin</th>\n",
       "      <th>Embarked</th>\n",
       "    </tr>\n",
       "  </thead>\n",
       "  <tbody>\n",
       "    <tr>\n",
       "      <th>0</th>\n",
       "      <td>1</td>\n",
       "      <td>0</td>\n",
       "      <td>3</td>\n",
       "      <td>Braund, Mr. Owen Harris</td>\n",
       "      <td>male</td>\n",
       "      <td>22.0</td>\n",
       "      <td>1</td>\n",
       "      <td>0</td>\n",
       "      <td>A/5 21171</td>\n",
       "      <td>7.2500</td>\n",
       "      <td>NaN</td>\n",
       "      <td>S</td>\n",
       "    </tr>\n",
       "    <tr>\n",
       "      <th>1</th>\n",
       "      <td>2</td>\n",
       "      <td>1</td>\n",
       "      <td>1</td>\n",
       "      <td>Cumings, Mrs. John Bradley (Florence Briggs Th...</td>\n",
       "      <td>female</td>\n",
       "      <td>38.0</td>\n",
       "      <td>1</td>\n",
       "      <td>0</td>\n",
       "      <td>PC 17599</td>\n",
       "      <td>71.2833</td>\n",
       "      <td>C85</td>\n",
       "      <td>C</td>\n",
       "    </tr>\n",
       "    <tr>\n",
       "      <th>2</th>\n",
       "      <td>3</td>\n",
       "      <td>1</td>\n",
       "      <td>3</td>\n",
       "      <td>Heikkinen, Miss. Laina</td>\n",
       "      <td>female</td>\n",
       "      <td>26.0</td>\n",
       "      <td>0</td>\n",
       "      <td>0</td>\n",
       "      <td>STON/O2. 3101282</td>\n",
       "      <td>7.9250</td>\n",
       "      <td>NaN</td>\n",
       "      <td>S</td>\n",
       "    </tr>\n",
       "    <tr>\n",
       "      <th>3</th>\n",
       "      <td>4</td>\n",
       "      <td>1</td>\n",
       "      <td>1</td>\n",
       "      <td>Futrelle, Mrs. Jacques Heath (Lily May Peel)</td>\n",
       "      <td>female</td>\n",
       "      <td>35.0</td>\n",
       "      <td>1</td>\n",
       "      <td>0</td>\n",
       "      <td>113803</td>\n",
       "      <td>53.1000</td>\n",
       "      <td>C123</td>\n",
       "      <td>S</td>\n",
       "    </tr>\n",
       "    <tr>\n",
       "      <th>4</th>\n",
       "      <td>5</td>\n",
       "      <td>0</td>\n",
       "      <td>3</td>\n",
       "      <td>Allen, Mr. William Henry</td>\n",
       "      <td>male</td>\n",
       "      <td>35.0</td>\n",
       "      <td>0</td>\n",
       "      <td>0</td>\n",
       "      <td>373450</td>\n",
       "      <td>8.0500</td>\n",
       "      <td>NaN</td>\n",
       "      <td>S</td>\n",
       "    </tr>\n",
       "  </tbody>\n",
       "</table>\n",
       "</div>"
      ],
      "text/plain": [
       "   PassengerId  Survived  Pclass  \\\n",
       "0            1         0       3   \n",
       "1            2         1       1   \n",
       "2            3         1       3   \n",
       "3            4         1       1   \n",
       "4            5         0       3   \n",
       "\n",
       "                                                Name     Sex   Age  SibSp  \\\n",
       "0                            Braund, Mr. Owen Harris    male  22.0      1   \n",
       "1  Cumings, Mrs. John Bradley (Florence Briggs Th...  female  38.0      1   \n",
       "2                             Heikkinen, Miss. Laina  female  26.0      0   \n",
       "3       Futrelle, Mrs. Jacques Heath (Lily May Peel)  female  35.0      1   \n",
       "4                           Allen, Mr. William Henry    male  35.0      0   \n",
       "\n",
       "   Parch            Ticket     Fare Cabin Embarked  \n",
       "0      0         A/5 21171   7.2500   NaN        S  \n",
       "1      0          PC 17599  71.2833   C85        C  \n",
       "2      0  STON/O2. 3101282   7.9250   NaN        S  \n",
       "3      0            113803  53.1000  C123        S  \n",
       "4      0            373450   8.0500   NaN        S  "
      ]
     },
     "execution_count": 284,
     "metadata": {},
     "output_type": "execute_result"
    }
   ],
   "source": [
    "train_df.head()"
   ]
  },
  {
   "cell_type": "markdown",
   "id": "executed-therapy",
   "metadata": {},
   "source": [
    "## Seeing the columns heading for the dataset, there data types and selecting data based on there data types."
   ]
  },
  {
   "cell_type": "code",
   "execution_count": 285,
   "id": "stable-marriage",
   "metadata": {},
   "outputs": [
    {
     "data": {
      "text/plain": [
       "Index(['PassengerId', 'Survived', 'Pclass', 'Name', 'Sex', 'Age', 'SibSp',\n",
       "       'Parch', 'Ticket', 'Fare', 'Cabin', 'Embarked'],\n",
       "      dtype='object')"
      ]
     },
     "execution_count": 285,
     "metadata": {},
     "output_type": "execute_result"
    }
   ],
   "source": [
    "train_df.columns"
   ]
  },
  {
   "cell_type": "code",
   "execution_count": 286,
   "id": "inner-cruise",
   "metadata": {},
   "outputs": [
    {
     "data": {
      "text/plain": [
       "array(['PassengerId', 'Survived', 'Pclass', 'Name', 'Sex', 'Age', 'SibSp',\n",
       "       'Parch', 'Ticket', 'Fare', 'Cabin', 'Embarked'], dtype=object)"
      ]
     },
     "execution_count": 286,
     "metadata": {},
     "output_type": "execute_result"
    }
   ],
   "source": [
    "train_df.columns.values"
   ]
  },
  {
   "cell_type": "code",
   "execution_count": 287,
   "id": "previous-person",
   "metadata": {},
   "outputs": [
    {
     "name": "stdout",
     "output_type": "stream",
     "text": [
      "Index(['Name', 'Sex', 'Ticket', 'Cabin', 'Embarked'], dtype='object')\n"
     ]
    }
   ],
   "source": [
    "dtype1=train_df.select_dtypes(include=['object'])\n",
    "print(dtype1.columns)"
   ]
  },
  {
   "cell_type": "code",
   "execution_count": 288,
   "id": "coordinated-model",
   "metadata": {},
   "outputs": [
    {
     "name": "stdout",
     "output_type": "stream",
     "text": [
      "Index(['PassengerId', 'Survived', 'Pclass', 'Age', 'SibSp', 'Parch', 'Fare'], dtype='object')\n"
     ]
    }
   ],
   "source": [
    "dtype2=train_df.select_dtypes(include=['float64','int64'])\n",
    "print(dtype2.columns)"
   ]
  },
  {
   "cell_type": "code",
   "execution_count": 289,
   "id": "hourly-socket",
   "metadata": {},
   "outputs": [
    {
     "name": "stdout",
     "output_type": "stream",
     "text": [
      "integer\n",
      "integer\n",
      "integer\n",
      "string\n",
      "string\n",
      "floating\n",
      "integer\n",
      "integer\n",
      "string\n",
      "floating\n",
      "mixed\n",
      "mixed\n"
     ]
    }
   ],
   "source": [
    "from pandas.api.types import infer_dtype\n",
    "infer_dtype(train_df.Cabin,skipna=False)\n",
    "for i in train_df:\n",
    "    print(infer_dtype(train_df[i],skipna=False))"
   ]
  },
  {
   "cell_type": "markdown",
   "id": "plain-module",
   "metadata": {},
   "source": [
    "## Seeing if there are any null values in the dataset."
   ]
  },
  {
   "cell_type": "code",
   "execution_count": 290,
   "id": "large-manor",
   "metadata": {},
   "outputs": [
    {
     "data": {
      "text/plain": [
       "PassengerId      0\n",
       "Survived         0\n",
       "Pclass           0\n",
       "Name             0\n",
       "Sex              0\n",
       "Age            177\n",
       "SibSp            0\n",
       "Parch            0\n",
       "Ticket           0\n",
       "Fare             0\n",
       "Cabin          687\n",
       "Embarked         2\n",
       "dtype: int64"
      ]
     },
     "execution_count": 290,
     "metadata": {},
     "output_type": "execute_result"
    }
   ],
   "source": [
    "train_df.isnull().sum()"
   ]
  },
  {
   "cell_type": "code",
   "execution_count": 291,
   "id": "sustained-lesbian",
   "metadata": {},
   "outputs": [
    {
     "data": {
      "text/plain": [
       "PassengerId      0\n",
       "Pclass           0\n",
       "Name             0\n",
       "Sex              0\n",
       "Age             86\n",
       "SibSp            0\n",
       "Parch            0\n",
       "Ticket           0\n",
       "Fare             1\n",
       "Cabin          327\n",
       "Embarked         0\n",
       "dtype: int64"
      ]
     },
     "execution_count": 291,
     "metadata": {},
     "output_type": "execute_result"
    }
   ],
   "source": [
    "test_df.isnull().sum()"
   ]
  },
  {
   "cell_type": "code",
   "execution_count": 292,
   "id": "arctic-substitute",
   "metadata": {},
   "outputs": [
    {
     "data": {
      "text/plain": [
       "PassengerId    False\n",
       "Survived       False\n",
       "Pclass         False\n",
       "Name           False\n",
       "Sex            False\n",
       "Age             True\n",
       "SibSp          False\n",
       "Parch          False\n",
       "Ticket         False\n",
       "Fare           False\n",
       "Cabin           True\n",
       "Embarked        True\n",
       "dtype: bool"
      ]
     },
     "execution_count": 292,
     "metadata": {},
     "output_type": "execute_result"
    }
   ],
   "source": [
    "train_df.isnull().any()"
   ]
  },
  {
   "cell_type": "code",
   "execution_count": 293,
   "id": "spoken-secretary",
   "metadata": {},
   "outputs": [
    {
     "data": {
      "text/plain": [
       "(array([  0,   2,   4,   5,   5,   7,   8,   9,  12,  13,  14,  15,  16,\n",
       "         17,  17,  18,  19,  19,  20,  22,  24,  25,  26,  26,  28,  28,\n",
       "         29,  29,  30,  31,  32,  32,  33,  34,  35,  36,  36,  37,  38,\n",
       "         39,  40,  41,  42,  42,  43,  44,  45,  45,  46,  46,  47,  47,\n",
       "         48,  48,  49,  50,  51,  53,  55,  56,  57,  58,  59,  60,  61,\n",
       "         63,  64,  64,  65,  65,  67,  68,  69,  70,  71,  72,  73,  74,\n",
       "         76,  76,  77,  77,  78,  79,  80,  81,  82,  82,  83,  84,  85,\n",
       "         86,  87,  87,  89,  90,  91,  93,  94,  95,  95,  98,  99, 100,\n",
       "        101, 101, 103, 104, 105, 106, 107, 107, 108, 109, 109, 111, 112,\n",
       "        113, 114, 115, 116, 117, 119, 120, 121, 121, 122, 125, 126, 126,\n",
       "        127, 128, 129, 130, 131, 132, 133, 134, 135, 138, 140, 140, 141,\n",
       "        142, 143, 144, 145, 146, 147, 149, 150, 152, 153, 154, 154, 155,\n",
       "        156, 157, 158, 158, 159, 159, 160, 161, 162, 163, 164, 165, 166,\n",
       "        167, 168, 168, 169, 171, 172, 173, 175, 176, 176, 178, 179, 180,\n",
       "        180, 181, 181, 182, 184, 185, 186, 186, 187, 188, 189, 190, 191,\n",
       "        192, 196, 196, 197, 198, 198, 199, 200, 201, 201, 202, 203, 204,\n",
       "        206, 207, 208, 210, 211, 212, 213, 214, 214, 216, 217, 219, 220,\n",
       "        221, 222, 223, 223, 225, 226, 227, 228, 229, 229, 231, 232, 233,\n",
       "        234, 235, 235, 236, 237, 238, 239, 240, 240, 241, 241, 242, 243,\n",
       "        244, 246, 247, 249, 250, 250, 253, 254, 255, 256, 256, 258, 259,\n",
       "        260, 260, 261, 264, 264, 265, 266, 267, 270, 270, 271, 272, 274,\n",
       "        274, 276, 277, 277, 278, 279, 280, 281, 282, 283, 284, 285, 286,\n",
       "        287, 288, 289, 290, 293, 294, 295, 295, 296, 298, 300, 300, 301,\n",
       "        301, 302, 303, 304, 304, 306, 306, 308, 312, 313, 314, 315, 316,\n",
       "        317, 320, 321, 322, 323, 324, 324, 326, 328, 330, 330, 333, 334,\n",
       "        334, 335, 335, 338, 342, 343, 344, 346, 347, 347, 348, 349, 350,\n",
       "        351, 352, 353, 354, 354, 355, 357, 358, 358, 359, 359, 360, 361,\n",
       "        362, 363, 364, 364, 365, 367, 367, 368, 368, 371, 372, 373, 374,\n",
       "        375, 375, 376, 378, 379, 380, 381, 382, 383, 384, 384, 385, 386,\n",
       "        387, 388, 388, 389, 391, 392, 395, 396, 397, 398, 399, 400, 401,\n",
       "        402, 403, 404, 405, 406, 407, 408, 409, 409, 410, 410, 411, 411,\n",
       "        413, 413, 414, 415, 415, 416, 417, 418, 419, 420, 420, 421, 422,\n",
       "        423, 424, 425, 425, 426, 427, 428, 428, 431, 431, 432, 433, 436,\n",
       "        437, 439, 440, 441, 442, 443, 444, 444, 446, 447, 448, 450, 451,\n",
       "        451, 454, 454, 455, 457, 458, 459, 459, 461, 463, 464, 464, 465,\n",
       "        466, 466, 467, 468, 468, 469, 470, 470, 471, 472, 474, 475, 476,\n",
       "        477, 478, 479, 480, 481, 481, 482, 483, 485, 485, 488, 489, 490,\n",
       "        490, 491, 493, 494, 495, 495, 497, 497, 499, 500, 501, 502, 502,\n",
       "        503, 506, 507, 507, 508, 509, 510, 511, 511, 513, 514, 517, 517,\n",
       "        518, 519, 521, 522, 522, 524, 524, 525, 526, 527, 528, 529, 530,\n",
       "        531, 531, 532, 533, 533, 534, 535, 537, 538, 538, 541, 542, 543,\n",
       "        545, 546, 547, 547, 548, 549, 551, 552, 552, 553, 554, 555, 557,\n",
       "        557, 559, 560, 560, 561, 562, 563, 563, 564, 564, 565, 566, 567,\n",
       "        568, 568, 569, 570, 573, 573, 574, 575, 576, 578, 578, 579, 580,\n",
       "        582, 584, 584, 586, 588, 589, 589, 590, 592, 593, 593, 594, 595,\n",
       "        596, 596, 597, 598, 598, 600, 601, 601, 602, 602, 603, 604, 605,\n",
       "        606, 607, 608, 610, 611, 611, 612, 612, 613, 613, 614, 615, 616,\n",
       "        617, 619, 620, 622, 623, 624, 626, 628, 629, 629, 631, 633, 633,\n",
       "        634, 635, 636, 637, 638, 639, 639, 640, 642, 643, 643, 644, 646,\n",
       "        648, 648, 649, 650, 650, 651, 652, 653, 653, 654, 655, 656, 656,\n",
       "        657, 658, 660, 661, 663, 664, 665, 666, 667, 667, 668, 669, 670,\n",
       "        672, 673, 674, 674, 675, 676, 677, 678, 680, 680, 682, 683, 684,\n",
       "        685, 686, 687, 688, 691, 692, 692, 693, 694, 695, 696, 697, 697,\n",
       "        702, 703, 704, 705, 706, 708, 709, 709, 711, 713, 714, 718, 718,\n",
       "        719, 720, 721, 722, 723, 725, 726, 727, 727, 728, 729, 731, 732,\n",
       "        732, 733, 734, 735, 736, 738, 738, 739, 739, 740, 743, 744, 746,\n",
       "        747, 749, 750, 752, 753, 754, 755, 756, 757, 758, 760, 760, 761,\n",
       "        762, 764, 766, 766, 767, 768, 768, 769, 770, 771, 773, 773, 774,\n",
       "        775, 776, 777, 778, 778, 780, 783, 783, 784, 785, 786, 787, 788,\n",
       "        790, 790, 791, 792, 792, 793, 793, 794, 795, 797, 798, 799, 800,\n",
       "        801, 803, 804, 805, 807, 808, 810, 811, 812, 813, 814, 815, 816,\n",
       "        817, 818, 819, 821, 822, 824, 825, 825, 826, 826, 827, 828, 828,\n",
       "        829, 830, 831, 832, 832, 833, 834, 836, 837, 837, 838, 839, 840,\n",
       "        841, 842, 843, 844, 845, 846, 846, 847, 848, 849, 850, 851, 852,\n",
       "        854, 855, 856, 858, 859, 859, 860, 861, 863, 863, 864, 865, 866,\n",
       "        868, 868, 869, 870, 873, 874, 875, 876, 877, 878, 878, 880, 881,\n",
       "        882, 883, 884, 885, 886, 888, 888, 890]),\n",
       " array([10, 10, 10,  5, 10, 10, 10, 10, 10, 10, 10, 10, 10,  5, 10, 10,  5,\n",
       "        10, 10, 10, 10, 10,  5, 10,  5, 10,  5, 10, 10,  5,  5, 10, 10, 10,\n",
       "        10,  5, 10, 10, 10, 10, 10, 10,  5, 10, 10, 10,  5, 10,  5, 10,  5,\n",
       "        10,  5, 10, 10, 10, 10, 10,  5, 10, 10, 10, 10, 10, 11, 10,  5, 10,\n",
       "         5, 10, 10, 10, 10, 10, 10, 10, 10, 10,  5, 10,  5, 10, 10, 10, 10,\n",
       "        10,  5, 10, 10, 10, 10, 10,  5, 10, 10, 10, 10, 10, 10,  5, 10, 10,\n",
       "        10, 10,  5, 10, 10, 10, 10, 10,  5, 10, 10,  5, 10, 10, 10, 10, 10,\n",
       "        10, 10, 10, 10, 10,  5, 10, 10, 10,  5, 10, 10,  5, 10, 10, 10, 10,\n",
       "        10, 10, 10, 10,  5, 10, 10, 10, 10, 10, 10, 10, 10, 10, 10, 10, 10,\n",
       "         5, 10, 10, 10, 10,  5, 10,  5, 10, 10, 10, 10, 10, 10, 10,  5, 10,\n",
       "         5, 10, 10, 10, 10, 10, 10,  5, 10, 10, 10,  5, 10,  5, 10, 10, 10,\n",
       "         5,  5, 10, 10, 10, 10, 10, 10, 10,  5, 10, 10,  5, 10, 10, 10,  5,\n",
       "        10, 10, 10, 10, 10, 10, 10, 10, 10, 10, 10,  5, 10, 10, 10, 10, 10,\n",
       "        10, 10,  5, 10, 10, 10, 10, 10,  5, 10, 10, 10, 10, 10,  5, 10, 10,\n",
       "        10, 10, 10,  5, 10,  5, 10, 10, 10, 10, 10, 10, 10,  5, 10, 10, 10,\n",
       "        10,  5, 10, 10, 10,  5, 10, 10,  5, 10, 10, 10, 10,  5, 10, 10, 10,\n",
       "         5, 10, 10,  5, 10, 10, 10, 10, 10, 10, 10,  5, 10, 10, 10, 10, 10,\n",
       "        10, 10, 10,  5, 10, 10,  5,  5, 10,  5, 10, 10,  5,  5, 10,  5, 10,\n",
       "        10, 10, 10, 10, 10, 10, 10, 10, 10, 10, 10,  5, 10, 10, 10,  5, 10,\n",
       "        10,  5, 10,  5, 10, 10, 10, 10, 10, 10,  5, 10, 10, 10, 10,  5, 10,\n",
       "        10,  5, 10, 10, 10,  5, 10,  5, 10, 10, 10, 10, 10,  5, 10, 10,  5,\n",
       "        10,  5, 10, 10, 10, 10, 10,  5, 10, 10, 10, 10, 10, 10, 10, 10,  5,\n",
       "        10, 10, 10, 10,  5, 10, 10, 10, 10, 10, 10, 10, 10, 10, 10, 10, 10,\n",
       "        10, 10, 10, 10, 10, 10,  5, 10,  5, 10,  5, 10,  5, 10, 10,  5, 10,\n",
       "        10, 10, 10, 10,  5, 10, 10, 10, 10, 10,  5, 10, 10, 10,  5, 10,  5,\n",
       "        10, 10, 10, 10, 10, 10, 10, 10, 10, 10,  5, 10, 10, 10, 10, 10,  5,\n",
       "        10,  5, 10, 10,  5, 10,  5, 10, 10, 10,  5, 10, 10,  5, 10, 10,  5,\n",
       "        10, 10,  5, 10, 10, 10, 10,  5, 10, 10, 10, 10, 10,  5, 10, 10, 10,\n",
       "         5, 10, 10, 10,  5, 10, 10, 10, 10,  5, 10,  5, 10, 10, 10, 10,  5,\n",
       "        10, 10, 10,  5, 10, 10, 10, 10,  5, 10, 10, 10,  5, 10, 10, 10, 10,\n",
       "         5, 10,  5, 10, 10, 10,  5, 10, 10, 10,  5, 10, 10,  5, 10, 10, 10,\n",
       "        10,  5, 10, 10, 10, 10, 10, 10,  5, 10, 10, 10, 10,  5, 10, 10, 10,\n",
       "        10,  5, 10, 10,  5, 10, 10, 10,  5, 10,  5, 10, 10, 10, 10,  5, 10,\n",
       "        10, 10,  5, 10, 10, 10, 10,  5, 10, 10, 10, 10,  5, 10, 10, 10,  5,\n",
       "        10, 10, 10,  5, 10, 10, 10,  5, 10, 10,  5, 10, 10,  5, 10,  5, 10,\n",
       "        10, 10, 10, 10, 10, 10, 10,  5, 10,  5, 10,  5, 10, 10, 10, 10, 10,\n",
       "        10, 10, 10, 10, 10, 10, 10,  5, 10, 10,  5, 10, 10, 10, 10, 10, 10,\n",
       "         5, 10, 10, 10,  5, 10, 10, 10,  5, 10, 10,  5, 10, 10, 10,  5, 10,\n",
       "        10, 10,  5, 10, 10, 10, 10, 10, 10, 10, 10, 10,  5, 10, 10,  5, 10,\n",
       "        10, 10,  5, 10, 10, 10, 10, 10,  5, 10, 10, 10, 10, 10, 10, 10, 10,\n",
       "        10,  5, 10, 10, 10, 10, 10,  5, 10, 10, 10, 10, 10, 10, 10,  5, 10,\n",
       "         5, 10, 10,  5, 10, 10, 10, 10, 10, 10, 10, 10,  5, 10, 10, 10, 10,\n",
       "         5, 10, 10, 10, 10, 10,  5, 10,  5, 10,  5, 10, 10, 10, 10, 10, 10,\n",
       "        10, 10, 10, 10, 10, 10, 10,  5, 10, 10, 10, 10,  5, 10, 10,  5, 10,\n",
       "        10, 10, 10,  5, 10, 10, 10,  5, 10,  5, 10, 10,  5, 10, 10, 10, 10,\n",
       "        10, 10,  5, 10, 10,  5, 10,  5, 10, 10, 10, 10, 10, 10, 10, 10, 10,\n",
       "        10, 10, 10, 10, 10, 10, 10, 10, 10,  5, 10, 10, 10, 10, 10, 10, 10,\n",
       "         5, 10,  5, 10, 10,  5, 10, 11, 10, 10,  5, 10, 10, 10, 10,  5, 10,\n",
       "        10,  5, 10, 10, 10, 10, 10, 10,  5, 10, 10, 10,  5, 10, 10, 10, 10,\n",
       "        10, 10, 10,  5, 10, 10, 10,  5, 10, 10, 10, 10,  5, 10, 10, 10, 10,\n",
       "        10, 10, 10, 10,  5, 10, 10, 10, 10, 10, 10, 10, 10,  5, 10, 10]))"
      ]
     },
     "execution_count": 293,
     "metadata": {},
     "output_type": "execute_result"
    }
   ],
   "source": [
    "np.where(pd.isnull(train_df))"
   ]
  },
  {
   "cell_type": "code",
   "execution_count": 294,
   "id": "lasting-winning",
   "metadata": {},
   "outputs": [
    {
     "data": {
      "text/plain": [
       "PassengerId      0\n",
       "Survived         0\n",
       "Pclass           0\n",
       "Name             0\n",
       "Sex              0\n",
       "Age            177\n",
       "SibSp            0\n",
       "Parch            0\n",
       "Ticket           0\n",
       "Fare             0\n",
       "Cabin          687\n",
       "Embarked         2\n",
       "dtype: int64"
      ]
     },
     "execution_count": 294,
     "metadata": {},
     "output_type": "execute_result"
    }
   ],
   "source": [
    "train_df.isna().sum()"
   ]
  },
  {
   "cell_type": "code",
   "execution_count": null,
   "id": "assured-franklin",
   "metadata": {},
   "outputs": [],
   "source": []
  },
  {
   "cell_type": "markdown",
   "id": "greek-cologne",
   "metadata": {},
   "source": [
    "## Observing different information about the dataset using different methods provided by pandas library like describe, info, count etc."
   ]
  },
  {
   "cell_type": "code",
   "execution_count": 295,
   "id": "republican-brisbane",
   "metadata": {},
   "outputs": [
    {
     "data": {
      "text/html": [
       "<div>\n",
       "<style scoped>\n",
       "    .dataframe tbody tr th:only-of-type {\n",
       "        vertical-align: middle;\n",
       "    }\n",
       "\n",
       "    .dataframe tbody tr th {\n",
       "        vertical-align: top;\n",
       "    }\n",
       "\n",
       "    .dataframe thead th {\n",
       "        text-align: right;\n",
       "    }\n",
       "</style>\n",
       "<table border=\"1\" class=\"dataframe\">\n",
       "  <thead>\n",
       "    <tr style=\"text-align: right;\">\n",
       "      <th></th>\n",
       "      <th>PassengerId</th>\n",
       "      <th>Survived</th>\n",
       "      <th>Pclass</th>\n",
       "      <th>Age</th>\n",
       "      <th>SibSp</th>\n",
       "      <th>Parch</th>\n",
       "      <th>Fare</th>\n",
       "    </tr>\n",
       "  </thead>\n",
       "  <tbody>\n",
       "    <tr>\n",
       "      <th>count</th>\n",
       "      <td>891.000000</td>\n",
       "      <td>891.000000</td>\n",
       "      <td>891.000000</td>\n",
       "      <td>714.000000</td>\n",
       "      <td>891.000000</td>\n",
       "      <td>891.000000</td>\n",
       "      <td>891.000000</td>\n",
       "    </tr>\n",
       "    <tr>\n",
       "      <th>mean</th>\n",
       "      <td>446.000000</td>\n",
       "      <td>0.383838</td>\n",
       "      <td>2.308642</td>\n",
       "      <td>29.699118</td>\n",
       "      <td>0.523008</td>\n",
       "      <td>0.381594</td>\n",
       "      <td>32.204208</td>\n",
       "    </tr>\n",
       "    <tr>\n",
       "      <th>std</th>\n",
       "      <td>257.353842</td>\n",
       "      <td>0.486592</td>\n",
       "      <td>0.836071</td>\n",
       "      <td>14.526497</td>\n",
       "      <td>1.102743</td>\n",
       "      <td>0.806057</td>\n",
       "      <td>49.693429</td>\n",
       "    </tr>\n",
       "    <tr>\n",
       "      <th>min</th>\n",
       "      <td>1.000000</td>\n",
       "      <td>0.000000</td>\n",
       "      <td>1.000000</td>\n",
       "      <td>0.420000</td>\n",
       "      <td>0.000000</td>\n",
       "      <td>0.000000</td>\n",
       "      <td>0.000000</td>\n",
       "    </tr>\n",
       "    <tr>\n",
       "      <th>25%</th>\n",
       "      <td>223.500000</td>\n",
       "      <td>0.000000</td>\n",
       "      <td>2.000000</td>\n",
       "      <td>20.125000</td>\n",
       "      <td>0.000000</td>\n",
       "      <td>0.000000</td>\n",
       "      <td>7.910400</td>\n",
       "    </tr>\n",
       "    <tr>\n",
       "      <th>50%</th>\n",
       "      <td>446.000000</td>\n",
       "      <td>0.000000</td>\n",
       "      <td>3.000000</td>\n",
       "      <td>28.000000</td>\n",
       "      <td>0.000000</td>\n",
       "      <td>0.000000</td>\n",
       "      <td>14.454200</td>\n",
       "    </tr>\n",
       "    <tr>\n",
       "      <th>75%</th>\n",
       "      <td>668.500000</td>\n",
       "      <td>1.000000</td>\n",
       "      <td>3.000000</td>\n",
       "      <td>38.000000</td>\n",
       "      <td>1.000000</td>\n",
       "      <td>0.000000</td>\n",
       "      <td>31.000000</td>\n",
       "    </tr>\n",
       "    <tr>\n",
       "      <th>max</th>\n",
       "      <td>891.000000</td>\n",
       "      <td>1.000000</td>\n",
       "      <td>3.000000</td>\n",
       "      <td>80.000000</td>\n",
       "      <td>8.000000</td>\n",
       "      <td>6.000000</td>\n",
       "      <td>512.329200</td>\n",
       "    </tr>\n",
       "  </tbody>\n",
       "</table>\n",
       "</div>"
      ],
      "text/plain": [
       "       PassengerId    Survived      Pclass         Age       SibSp  \\\n",
       "count   891.000000  891.000000  891.000000  714.000000  891.000000   \n",
       "mean    446.000000    0.383838    2.308642   29.699118    0.523008   \n",
       "std     257.353842    0.486592    0.836071   14.526497    1.102743   \n",
       "min       1.000000    0.000000    1.000000    0.420000    0.000000   \n",
       "25%     223.500000    0.000000    2.000000   20.125000    0.000000   \n",
       "50%     446.000000    0.000000    3.000000   28.000000    0.000000   \n",
       "75%     668.500000    1.000000    3.000000   38.000000    1.000000   \n",
       "max     891.000000    1.000000    3.000000   80.000000    8.000000   \n",
       "\n",
       "            Parch        Fare  \n",
       "count  891.000000  891.000000  \n",
       "mean     0.381594   32.204208  \n",
       "std      0.806057   49.693429  \n",
       "min      0.000000    0.000000  \n",
       "25%      0.000000    7.910400  \n",
       "50%      0.000000   14.454200  \n",
       "75%      0.000000   31.000000  \n",
       "max      6.000000  512.329200  "
      ]
     },
     "execution_count": 295,
     "metadata": {},
     "output_type": "execute_result"
    }
   ],
   "source": [
    "train_df.describe()"
   ]
  },
  {
   "cell_type": "code",
   "execution_count": 296,
   "id": "moderate-testing",
   "metadata": {},
   "outputs": [
    {
     "name": "stdout",
     "output_type": "stream",
     "text": [
      "<class 'pandas.core.frame.DataFrame'>\n",
      "RangeIndex: 891 entries, 0 to 890\n",
      "Data columns (total 12 columns):\n",
      " #   Column       Non-Null Count  Dtype  \n",
      "---  ------       --------------  -----  \n",
      " 0   PassengerId  891 non-null    int64  \n",
      " 1   Survived     891 non-null    int64  \n",
      " 2   Pclass       891 non-null    int64  \n",
      " 3   Name         891 non-null    object \n",
      " 4   Sex          891 non-null    object \n",
      " 5   Age          714 non-null    float64\n",
      " 6   SibSp        891 non-null    int64  \n",
      " 7   Parch        891 non-null    int64  \n",
      " 8   Ticket       891 non-null    object \n",
      " 9   Fare         891 non-null    float64\n",
      " 10  Cabin        204 non-null    object \n",
      " 11  Embarked     889 non-null    object \n",
      "dtypes: float64(2), int64(5), object(5)\n",
      "memory usage: 83.7+ KB\n"
     ]
    }
   ],
   "source": [
    "train_df.info()"
   ]
  },
  {
   "cell_type": "code",
   "execution_count": 297,
   "id": "utility-sitting",
   "metadata": {},
   "outputs": [
    {
     "data": {
      "text/plain": [
       "PassengerId      int64\n",
       "Survived         int64\n",
       "Pclass           int64\n",
       "Name            object\n",
       "Sex             object\n",
       "Age            float64\n",
       "SibSp            int64\n",
       "Parch            int64\n",
       "Ticket          object\n",
       "Fare           float64\n",
       "Cabin           object\n",
       "Embarked        object\n",
       "dtype: object"
      ]
     },
     "execution_count": 297,
     "metadata": {},
     "output_type": "execute_result"
    }
   ],
   "source": [
    "train_df.dtypes"
   ]
  },
  {
   "cell_type": "code",
   "execution_count": 298,
   "id": "developing-attachment",
   "metadata": {},
   "outputs": [
    {
     "data": {
      "text/plain": [
       "PassengerId    891\n",
       "Survived       891\n",
       "Pclass         891\n",
       "Name           891\n",
       "Sex            891\n",
       "Age            714\n",
       "SibSp          891\n",
       "Parch          891\n",
       "Ticket         891\n",
       "Fare           891\n",
       "Cabin          204\n",
       "Embarked       889\n",
       "dtype: int64"
      ]
     },
     "execution_count": 298,
     "metadata": {},
     "output_type": "execute_result"
    }
   ],
   "source": [
    "#count, unique, top, freq\n",
    "train_df.count()"
   ]
  },
  {
   "cell_type": "code",
   "execution_count": 299,
   "id": "rational-framing",
   "metadata": {},
   "outputs": [
    {
     "name": "stdout",
     "output_type": "stream",
     "text": [
      "[3 1 2]\n"
     ]
    }
   ],
   "source": [
    "print(\n",
    "#train_df.Name.unique(),\n",
    "train_df.Pclass.unique())\n",
    "\n",
    "#train_df.Ticket.unique())\n",
    "#train_df.Fare.unique())\n"
   ]
  },
  {
   "cell_type": "code",
   "execution_count": 300,
   "id": "solar-brunswick",
   "metadata": {},
   "outputs": [
    {
     "data": {
      "text/html": [
       "<div>\n",
       "<style scoped>\n",
       "    .dataframe tbody tr th:only-of-type {\n",
       "        vertical-align: middle;\n",
       "    }\n",
       "\n",
       "    .dataframe tbody tr th {\n",
       "        vertical-align: top;\n",
       "    }\n",
       "\n",
       "    .dataframe thead th {\n",
       "        text-align: right;\n",
       "    }\n",
       "</style>\n",
       "<table border=\"1\" class=\"dataframe\">\n",
       "  <thead>\n",
       "    <tr style=\"text-align: right;\">\n",
       "      <th></th>\n",
       "      <th>PassengerId</th>\n",
       "      <th>Survived</th>\n",
       "      <th>Pclass</th>\n",
       "      <th>Age</th>\n",
       "      <th>SibSp</th>\n",
       "      <th>Parch</th>\n",
       "      <th>Fare</th>\n",
       "    </tr>\n",
       "  </thead>\n",
       "  <tbody>\n",
       "    <tr>\n",
       "      <th>PassengerId</th>\n",
       "      <td>1.000000</td>\n",
       "      <td>-0.005007</td>\n",
       "      <td>-0.035144</td>\n",
       "      <td>0.036847</td>\n",
       "      <td>-0.057527</td>\n",
       "      <td>-0.001652</td>\n",
       "      <td>0.012658</td>\n",
       "    </tr>\n",
       "    <tr>\n",
       "      <th>Survived</th>\n",
       "      <td>-0.005007</td>\n",
       "      <td>1.000000</td>\n",
       "      <td>-0.338481</td>\n",
       "      <td>-0.077221</td>\n",
       "      <td>-0.035322</td>\n",
       "      <td>0.081629</td>\n",
       "      <td>0.257307</td>\n",
       "    </tr>\n",
       "    <tr>\n",
       "      <th>Pclass</th>\n",
       "      <td>-0.035144</td>\n",
       "      <td>-0.338481</td>\n",
       "      <td>1.000000</td>\n",
       "      <td>-0.369226</td>\n",
       "      <td>0.083081</td>\n",
       "      <td>0.018443</td>\n",
       "      <td>-0.549500</td>\n",
       "    </tr>\n",
       "    <tr>\n",
       "      <th>Age</th>\n",
       "      <td>0.036847</td>\n",
       "      <td>-0.077221</td>\n",
       "      <td>-0.369226</td>\n",
       "      <td>1.000000</td>\n",
       "      <td>-0.308247</td>\n",
       "      <td>-0.189119</td>\n",
       "      <td>0.096067</td>\n",
       "    </tr>\n",
       "    <tr>\n",
       "      <th>SibSp</th>\n",
       "      <td>-0.057527</td>\n",
       "      <td>-0.035322</td>\n",
       "      <td>0.083081</td>\n",
       "      <td>-0.308247</td>\n",
       "      <td>1.000000</td>\n",
       "      <td>0.414838</td>\n",
       "      <td>0.159651</td>\n",
       "    </tr>\n",
       "    <tr>\n",
       "      <th>Parch</th>\n",
       "      <td>-0.001652</td>\n",
       "      <td>0.081629</td>\n",
       "      <td>0.018443</td>\n",
       "      <td>-0.189119</td>\n",
       "      <td>0.414838</td>\n",
       "      <td>1.000000</td>\n",
       "      <td>0.216225</td>\n",
       "    </tr>\n",
       "    <tr>\n",
       "      <th>Fare</th>\n",
       "      <td>0.012658</td>\n",
       "      <td>0.257307</td>\n",
       "      <td>-0.549500</td>\n",
       "      <td>0.096067</td>\n",
       "      <td>0.159651</td>\n",
       "      <td>0.216225</td>\n",
       "      <td>1.000000</td>\n",
       "    </tr>\n",
       "  </tbody>\n",
       "</table>\n",
       "</div>"
      ],
      "text/plain": [
       "             PassengerId  Survived    Pclass       Age     SibSp     Parch  \\\n",
       "PassengerId     1.000000 -0.005007 -0.035144  0.036847 -0.057527 -0.001652   \n",
       "Survived       -0.005007  1.000000 -0.338481 -0.077221 -0.035322  0.081629   \n",
       "Pclass         -0.035144 -0.338481  1.000000 -0.369226  0.083081  0.018443   \n",
       "Age             0.036847 -0.077221 -0.369226  1.000000 -0.308247 -0.189119   \n",
       "SibSp          -0.057527 -0.035322  0.083081 -0.308247  1.000000  0.414838   \n",
       "Parch          -0.001652  0.081629  0.018443 -0.189119  0.414838  1.000000   \n",
       "Fare            0.012658  0.257307 -0.549500  0.096067  0.159651  0.216225   \n",
       "\n",
       "                 Fare  \n",
       "PassengerId  0.012658  \n",
       "Survived     0.257307  \n",
       "Pclass      -0.549500  \n",
       "Age          0.096067  \n",
       "SibSp        0.159651  \n",
       "Parch        0.216225  \n",
       "Fare         1.000000  "
      ]
     },
     "execution_count": 300,
     "metadata": {},
     "output_type": "execute_result"
    }
   ],
   "source": [
    "train_df.corr()\n",
    "#train_df['Pclass'].corrwith(train_df['Survived'],axis=1)"
   ]
  },
  {
   "cell_type": "code",
   "execution_count": 301,
   "id": "accomplished-password",
   "metadata": {},
   "outputs": [
    {
     "data": {
      "text/plain": [
       "<AxesSubplot:xlabel='Parch', ylabel='Survived'>"
      ]
     },
     "execution_count": 301,
     "metadata": {},
     "output_type": "execute_result"
    },
    {
     "data": {
      "image/png": "[encoded data removed]",
      "text/plain": [
       "<Figure size 432x288 with 1 Axes>"
      ]
     },
     "metadata": {
      "needs_background": "light"
     },
     "output_type": "display_data"
    }
   ],
   "source": [
    "train_df.plot(x=\"Parch\", y=\"Survived\",kind=\"scatter\")"
   ]
  },
  {
   "cell_type": "code",
   "execution_count": 302,
   "id": "eleven-occasion",
   "metadata": {},
   "outputs": [
    {
     "data": {
      "text/plain": [
       "0    3\n",
       "dtype: int64"
      ]
     },
     "execution_count": 302,
     "metadata": {},
     "output_type": "execute_result"
    }
   ],
   "source": [
    "train_df.Pclass.mode()"
   ]
  },
  {
   "cell_type": "code",
   "execution_count": 303,
   "id": "bright-approach",
   "metadata": {},
   "outputs": [
    {
     "data": {
      "text/plain": [
       "3    491\n",
       "1    216\n",
       "2    184\n",
       "Name: Pclass, dtype: int64"
      ]
     },
     "execution_count": 303,
     "metadata": {},
     "output_type": "execute_result"
    }
   ],
   "source": [
    "train_df.Pclass.value_counts()"
   ]
  },
  {
   "cell_type": "markdown",
   "id": "political-haven",
   "metadata": {},
   "source": [
    "## Doing Data visualization using Seaborn library. Histogram to see who survived base on there Pclass,Sex , Age."
   ]
  },
  {
   "cell_type": "code",
   "execution_count": 304,
   "id": "according-labor",
   "metadata": {},
   "outputs": [],
   "source": [
    "# data visualization\n",
    "import seaborn as sns\n",
    "%matplotlib inline\n",
    "from matplotlib import pyplot as plt"
   ]
  },
  {
   "cell_type": "code",
   "execution_count": 305,
   "id": "advised-spending",
   "metadata": {},
   "outputs": [
    {
     "data": {
      "text/plain": [
       "<AxesSubplot:xlabel='Pclass', ylabel='Survived'>"
      ]
     },
     "execution_count": 305,
     "metadata": {},
     "output_type": "execute_result"
    },
    {
     "data": {
      "image/png": "[encoded data removed]",
      "text/plain": [
       "<Figure size 432x288 with 1 Axes>"
      ]
     },
     "metadata": {
      "needs_background": "light"
     },
     "output_type": "display_data"
    }
   ],
   "source": [
    "sns.barplot(x='Pclass', y='Survived', data=train_df)"
   ]
  },
  {
   "cell_type": "code",
   "execution_count": 306,
   "id": "modular-discretion",
   "metadata": {},
   "outputs": [
    {
     "data": {
      "text/plain": [
       "<AxesSubplot:xlabel='Sex', ylabel='Survived'>"
      ]
     },
     "execution_count": 306,
     "metadata": {},
     "output_type": "execute_result"
    },
    {
     "data": {
      "image/png": "[encoded data removed]",
      "text/plain": [
       "<Figure size 432x288 with 1 Axes>"
      ]
     },
     "metadata": {
      "needs_background": "light"
     },
     "output_type": "display_data"
    }
   ],
   "source": [
    "sns.barplot(x='Sex', y='Survived', data=train_df)"
   ]
  },
  {
   "cell_type": "code",
   "execution_count": 307,
   "id": "comparable-control",
   "metadata": {},
   "outputs": [
    {
     "data": {
      "text/plain": [
       "Survived\n",
       "0    AxesSubplot(0.125,0.125;0.775x0.755)\n",
       "1    AxesSubplot(0.125,0.125;0.775x0.755)\n",
       "Name: Age, dtype: object"
      ]
     },
     "execution_count": 307,
     "metadata": {},
     "output_type": "execute_result"
    },
    {
     "data": {
      "image/png": "[encoded data removed]",
      "text/plain": [
       "<Figure size 432x288 with 1 Axes>"
      ]
     },
     "metadata": {
      "needs_background": "light"
     },
     "output_type": "display_data"
    }
   ],
   "source": [
    "train_df.groupby('Survived').Age.hist()\n"
   ]
  },
  {
   "cell_type": "code",
   "execution_count": 308,
   "id": "assigned-wildlife",
   "metadata": {},
   "outputs": [
    {
     "data": {
      "text/plain": [
       "<AxesSubplot:>"
      ]
     },
     "execution_count": 308,
     "metadata": {},
     "output_type": "execute_result"
    },
    {
     "data": {
      "image/png": "[encoded data removed]",
      "text/plain": [
       "<Figure size 432x288 with 1 Axes>"
      ]
     },
     "metadata": {
      "needs_background": "light"
     },
     "output_type": "display_data"
    }
   ],
   "source": [
    "train_df['Age'].hist(bins=10)"
   ]
  },
  {
   "cell_type": "code",
   "execution_count": 309,
   "id": "alien-vocabulary",
   "metadata": {},
   "outputs": [
    {
     "data": {
      "text/plain": [
       "array([<AxesSubplot:title={'center':'0'}>,\n",
       "       <AxesSubplot:title={'center':'1'}>], dtype=object)"
      ]
     },
     "execution_count": 309,
     "metadata": {},
     "output_type": "execute_result"
    },
    {
     "data": {
      "image/png": "[encoded data removed]",
      "text/plain": [
       "<Figure size 432x288 with 2 Axes>"
      ]
     },
     "metadata": {
      "needs_background": "light"
     },
     "output_type": "display_data"
    }
   ],
   "source": [
    "train_df['Age'].hist(by=train_df['Survived'])"
   ]
  },
  {
   "cell_type": "code",
   "execution_count": 310,
   "id": "straight-composer",
   "metadata": {},
   "outputs": [
    {
     "data": {
      "image/png": "[encoded data removed]",
      "text/plain": [
       "<Figure size 432x288 with 1 Axes>"
      ]
     },
     "metadata": {
      "needs_background": "light"
     },
     "output_type": "display_data"
    }
   ],
   "source": [
    "import matplotlib.pyplot as plt \n",
    "plt.figure()\n",
    "plt.hist(train_df['Age'])\n",
    "plt.show()"
   ]
  },
  {
   "cell_type": "markdown",
   "id": "administrative-radical",
   "metadata": {},
   "source": [
    "## Seeing corelation between Age and Pclass with Survived features using histograms."
   ]
  },
  {
   "cell_type": "code",
   "execution_count": 311,
   "id": "nominated-negotiation",
   "metadata": {},
   "outputs": [
    {
     "name": "stderr",
     "output_type": "stream",
     "text": [
      "/home/fawad/.local/lib/python3.8/site-packages/seaborn/axisgrid.py:316: UserWarning: The `size` parameter has been renamed to `height`; please update your code.\n",
      "  warnings.warn(msg, UserWarning)\n"
     ]
    },
    {
     "data": {
      "image/png": "[encoded data removed]",
      "text/plain": [
       "<Figure size 514.88x475.2 with 6 Axes>"
      ]
     },
     "metadata": {
      "needs_background": "light"
     },
     "output_type": "display_data"
    }
   ],
   "source": [
    "grid = sns.FacetGrid(train_df, col='Survived', row='Pclass', size=2.2, aspect=1.6)\n",
    "grid.map(plt.hist, 'Age', alpha=.5, bins=20)\n",
    "grid.add_legend();"
   ]
  },
  {
   "cell_type": "code",
   "execution_count": 312,
   "id": "rolled-guess",
   "metadata": {},
   "outputs": [
    {
     "name": "stderr",
     "output_type": "stream",
     "text": [
      "/home/fawad/.local/lib/python3.8/site-packages/seaborn/axisgrid.py:316: UserWarning: The `size` parameter has been renamed to `height`; please update your code.\n",
      "  warnings.warn(msg, UserWarning)\n",
      "/home/fawad/.local/lib/python3.8/site-packages/seaborn/axisgrid.py:643: UserWarning: Using the barplot function without specifying `order` is likely to produce an incorrect plot.\n",
      "  warnings.warn(warning)\n"
     ]
    },
    {
     "data": {
      "text/plain": [
       "<seaborn.axisgrid.FacetGrid at 0x7f1e5b61ab80>"
      ]
     },
     "execution_count": 312,
     "metadata": {},
     "output_type": "execute_result"
    },
    {
     "data": {
      "image/png": "[encoded data removed]",
      "text/plain": [
       "<Figure size 514.88x475.2 with 6 Axes>"
      ]
     },
     "metadata": {
      "needs_background": "light"
     },
     "output_type": "display_data"
    }
   ],
   "source": [
    "grid = sns.FacetGrid(train_df, row='Embarked', col='Survived', size=2.2, aspect=1.6)\n",
    "grid.map(sns.barplot, 'Sex', 'Fare', alpha=.5, ci=None)\n",
    "grid.add_legend()"
   ]
  },
  {
   "cell_type": "markdown",
   "id": "abandoned-piano",
   "metadata": {},
   "source": [
    "## Duplicated values are removed. "
   ]
  },
  {
   "cell_type": "code",
   "execution_count": 313,
   "id": "virtual-savannah",
   "metadata": {},
   "outputs": [
    {
     "data": {
      "text/plain": [
       "210"
      ]
     },
     "execution_count": 313,
     "metadata": {},
     "output_type": "execute_result"
    }
   ],
   "source": [
    "train_df['Ticket'].duplicated().sum()"
   ]
  },
  {
   "cell_type": "code",
   "execution_count": 314,
   "id": "synthetic-partner",
   "metadata": {},
   "outputs": [
    {
     "data": {
      "text/plain": [
       "0      False\n",
       "1      False\n",
       "2      False\n",
       "3      False\n",
       "4      False\n",
       "       ...  \n",
       "886    False\n",
       "887    False\n",
       "888     True\n",
       "889    False\n",
       "890    False\n",
       "Length: 891, dtype: bool"
      ]
     },
     "execution_count": 314,
     "metadata": {},
     "output_type": "execute_result"
    }
   ],
   "source": [
    "train_df.duplicated(subset=['Ticket'])"
   ]
  },
  {
   "cell_type": "code",
   "execution_count": 315,
   "id": "nonprofit-reviewer",
   "metadata": {},
   "outputs": [
    {
     "data": {
      "text/plain": [
       "0             A/5 21171\n",
       "1              PC 17599\n",
       "2      STON/O2. 3101282\n",
       "3                113803\n",
       "4                373450\n",
       "             ...       \n",
       "886              211536\n",
       "887              112053\n",
       "888          W./C. 6607\n",
       "889              111369\n",
       "890              370376\n",
       "Name: Ticket, Length: 891, dtype: object"
      ]
     },
     "execution_count": 315,
     "metadata": {},
     "output_type": "execute_result"
    }
   ],
   "source": [
    "train_df['Ticket']"
   ]
  },
  {
   "cell_type": "code",
   "execution_count": 316,
   "id": "strange-house",
   "metadata": {},
   "outputs": [
    {
     "data": {
      "text/plain": [
       "0       NaN\n",
       "1       C85\n",
       "2       NaN\n",
       "3      C123\n",
       "4       NaN\n",
       "       ... \n",
       "886     NaN\n",
       "887     B42\n",
       "888     NaN\n",
       "889    C148\n",
       "890     NaN\n",
       "Name: Cabin, Length: 891, dtype: object"
      ]
     },
     "execution_count": 316,
     "metadata": {},
     "output_type": "execute_result"
    }
   ],
   "source": [
    "train_df['Cabin']"
   ]
  },
  {
   "cell_type": "code",
   "execution_count": 317,
   "id": "going-harbor",
   "metadata": {},
   "outputs": [
    {
     "data": {
      "text/plain": [
       "687"
      ]
     },
     "execution_count": 317,
     "metadata": {},
     "output_type": "execute_result"
    }
   ],
   "source": [
    "train_df['Cabin'].isnull().sum()"
   ]
  },
  {
   "cell_type": "code",
   "execution_count": 318,
   "id": "durable-indication",
   "metadata": {},
   "outputs": [
    {
     "data": {
      "text/plain": [
       "PassengerId    891\n",
       "Survived       891\n",
       "Pclass         891\n",
       "Name           891\n",
       "Sex            891\n",
       "Age            714\n",
       "SibSp          891\n",
       "Parch          891\n",
       "Ticket         891\n",
       "Fare           891\n",
       "Cabin          204\n",
       "Embarked       889\n",
       "dtype: int64"
      ]
     },
     "execution_count": 318,
     "metadata": {},
     "output_type": "execute_result"
    }
   ],
   "source": [
    "train_df.count()"
   ]
  },
  {
   "cell_type": "markdown",
   "id": "neutral-essay",
   "metadata": {},
   "source": [
    "## In order to convert a categorical value into numerical values for better calculations, The feature Sex is converted into Gender where female=1 and male=0 "
   ]
  },
  {
   "cell_type": "code",
   "execution_count": 319,
   "id": "alpha-court",
   "metadata": {},
   "outputs": [
    {
     "data": {
      "text/html": [
       "<div>\n",
       "<style scoped>\n",
       "    .dataframe tbody tr th:only-of-type {\n",
       "        vertical-align: middle;\n",
       "    }\n",
       "\n",
       "    .dataframe tbody tr th {\n",
       "        vertical-align: top;\n",
       "    }\n",
       "\n",
       "    .dataframe thead th {\n",
       "        text-align: right;\n",
       "    }\n",
       "</style>\n",
       "<table border=\"1\" class=\"dataframe\">\n",
       "  <thead>\n",
       "    <tr style=\"text-align: right;\">\n",
       "      <th></th>\n",
       "      <th>PassengerId</th>\n",
       "      <th>Survived</th>\n",
       "      <th>Pclass</th>\n",
       "      <th>Name</th>\n",
       "      <th>Sex</th>\n",
       "      <th>Age</th>\n",
       "      <th>SibSp</th>\n",
       "      <th>Parch</th>\n",
       "      <th>Ticket</th>\n",
       "      <th>Fare</th>\n",
       "      <th>Cabin</th>\n",
       "      <th>Embarked</th>\n",
       "      <th>Gender</th>\n",
       "    </tr>\n",
       "  </thead>\n",
       "  <tbody>\n",
       "    <tr>\n",
       "      <th>0</th>\n",
       "      <td>1</td>\n",
       "      <td>0</td>\n",
       "      <td>3</td>\n",
       "      <td>Braund, Mr. Owen Harris</td>\n",
       "      <td>male</td>\n",
       "      <td>22.0</td>\n",
       "      <td>1</td>\n",
       "      <td>0</td>\n",
       "      <td>A/5 21171</td>\n",
       "      <td>7.2500</td>\n",
       "      <td>NaN</td>\n",
       "      <td>S</td>\n",
       "      <td>0</td>\n",
       "    </tr>\n",
       "    <tr>\n",
       "      <th>1</th>\n",
       "      <td>2</td>\n",
       "      <td>1</td>\n",
       "      <td>1</td>\n",
       "      <td>Cumings, Mrs. John Bradley (Florence Briggs Th...</td>\n",
       "      <td>female</td>\n",
       "      <td>38.0</td>\n",
       "      <td>1</td>\n",
       "      <td>0</td>\n",
       "      <td>PC 17599</td>\n",
       "      <td>71.2833</td>\n",
       "      <td>C85</td>\n",
       "      <td>C</td>\n",
       "      <td>1</td>\n",
       "    </tr>\n",
       "    <tr>\n",
       "      <th>2</th>\n",
       "      <td>3</td>\n",
       "      <td>1</td>\n",
       "      <td>3</td>\n",
       "      <td>Heikkinen, Miss. Laina</td>\n",
       "      <td>female</td>\n",
       "      <td>26.0</td>\n",
       "      <td>0</td>\n",
       "      <td>0</td>\n",
       "      <td>STON/O2. 3101282</td>\n",
       "      <td>7.9250</td>\n",
       "      <td>NaN</td>\n",
       "      <td>S</td>\n",
       "      <td>1</td>\n",
       "    </tr>\n",
       "    <tr>\n",
       "      <th>3</th>\n",
       "      <td>4</td>\n",
       "      <td>1</td>\n",
       "      <td>1</td>\n",
       "      <td>Futrelle, Mrs. Jacques Heath (Lily May Peel)</td>\n",
       "      <td>female</td>\n",
       "      <td>35.0</td>\n",
       "      <td>1</td>\n",
       "      <td>0</td>\n",
       "      <td>113803</td>\n",
       "      <td>53.1000</td>\n",
       "      <td>C123</td>\n",
       "      <td>S</td>\n",
       "      <td>1</td>\n",
       "    </tr>\n",
       "    <tr>\n",
       "      <th>4</th>\n",
       "      <td>5</td>\n",
       "      <td>0</td>\n",
       "      <td>3</td>\n",
       "      <td>Allen, Mr. William Henry</td>\n",
       "      <td>male</td>\n",
       "      <td>35.0</td>\n",
       "      <td>0</td>\n",
       "      <td>0</td>\n",
       "      <td>373450</td>\n",
       "      <td>8.0500</td>\n",
       "      <td>NaN</td>\n",
       "      <td>S</td>\n",
       "      <td>0</td>\n",
       "    </tr>\n",
       "    <tr>\n",
       "      <th>...</th>\n",
       "      <td>...</td>\n",
       "      <td>...</td>\n",
       "      <td>...</td>\n",
       "      <td>...</td>\n",
       "      <td>...</td>\n",
       "      <td>...</td>\n",
       "      <td>...</td>\n",
       "      <td>...</td>\n",
       "      <td>...</td>\n",
       "      <td>...</td>\n",
       "      <td>...</td>\n",
       "      <td>...</td>\n",
       "      <td>...</td>\n",
       "    </tr>\n",
       "    <tr>\n",
       "      <th>886</th>\n",
       "      <td>887</td>\n",
       "      <td>0</td>\n",
       "      <td>2</td>\n",
       "      <td>Montvila, Rev. Juozas</td>\n",
       "      <td>male</td>\n",
       "      <td>27.0</td>\n",
       "      <td>0</td>\n",
       "      <td>0</td>\n",
       "      <td>211536</td>\n",
       "      <td>13.0000</td>\n",
       "      <td>NaN</td>\n",
       "      <td>S</td>\n",
       "      <td>0</td>\n",
       "    </tr>\n",
       "    <tr>\n",
       "      <th>887</th>\n",
       "      <td>888</td>\n",
       "      <td>1</td>\n",
       "      <td>1</td>\n",
       "      <td>Graham, Miss. Margaret Edith</td>\n",
       "      <td>female</td>\n",
       "      <td>19.0</td>\n",
       "      <td>0</td>\n",
       "      <td>0</td>\n",
       "      <td>112053</td>\n",
       "      <td>30.0000</td>\n",
       "      <td>B42</td>\n",
       "      <td>S</td>\n",
       "      <td>1</td>\n",
       "    </tr>\n",
       "    <tr>\n",
       "      <th>888</th>\n",
       "      <td>889</td>\n",
       "      <td>0</td>\n",
       "      <td>3</td>\n",
       "      <td>Johnston, Miss. Catherine Helen \"Carrie\"</td>\n",
       "      <td>female</td>\n",
       "      <td>NaN</td>\n",
       "      <td>1</td>\n",
       "      <td>2</td>\n",
       "      <td>W./C. 6607</td>\n",
       "      <td>23.4500</td>\n",
       "      <td>NaN</td>\n",
       "      <td>S</td>\n",
       "      <td>1</td>\n",
       "    </tr>\n",
       "    <tr>\n",
       "      <th>889</th>\n",
       "      <td>890</td>\n",
       "      <td>1</td>\n",
       "      <td>1</td>\n",
       "      <td>Behr, Mr. Karl Howell</td>\n",
       "      <td>male</td>\n",
       "      <td>26.0</td>\n",
       "      <td>0</td>\n",
       "      <td>0</td>\n",
       "      <td>111369</td>\n",
       "      <td>30.0000</td>\n",
       "      <td>C148</td>\n",
       "      <td>C</td>\n",
       "      <td>0</td>\n",
       "    </tr>\n",
       "    <tr>\n",
       "      <th>890</th>\n",
       "      <td>891</td>\n",
       "      <td>0</td>\n",
       "      <td>3</td>\n",
       "      <td>Dooley, Mr. Patrick</td>\n",
       "      <td>male</td>\n",
       "      <td>32.0</td>\n",
       "      <td>0</td>\n",
       "      <td>0</td>\n",
       "      <td>370376</td>\n",
       "      <td>7.7500</td>\n",
       "      <td>NaN</td>\n",
       "      <td>Q</td>\n",
       "      <td>0</td>\n",
       "    </tr>\n",
       "  </tbody>\n",
       "</table>\n",
       "<p>891 rows × 13 columns</p>\n",
       "</div>"
      ],
      "text/plain": [
       "     PassengerId  Survived  Pclass  \\\n",
       "0              1         0       3   \n",
       "1              2         1       1   \n",
       "2              3         1       3   \n",
       "3              4         1       1   \n",
       "4              5         0       3   \n",
       "..           ...       ...     ...   \n",
       "886          887         0       2   \n",
       "887          888         1       1   \n",
       "888          889         0       3   \n",
       "889          890         1       1   \n",
       "890          891         0       3   \n",
       "\n",
       "                                                  Name     Sex   Age  SibSp  \\\n",
       "0                              Braund, Mr. Owen Harris    male  22.0      1   \n",
       "1    Cumings, Mrs. John Bradley (Florence Briggs Th...  female  38.0      1   \n",
       "2                               Heikkinen, Miss. Laina  female  26.0      0   \n",
       "3         Futrelle, Mrs. Jacques Heath (Lily May Peel)  female  35.0      1   \n",
       "4                             Allen, Mr. William Henry    male  35.0      0   \n",
       "..                                                 ...     ...   ...    ...   \n",
       "886                              Montvila, Rev. Juozas    male  27.0      0   \n",
       "887                       Graham, Miss. Margaret Edith  female  19.0      0   \n",
       "888           Johnston, Miss. Catherine Helen \"Carrie\"  female   NaN      1   \n",
       "889                              Behr, Mr. Karl Howell    male  26.0      0   \n",
       "890                                Dooley, Mr. Patrick    male  32.0      0   \n",
       "\n",
       "     Parch            Ticket     Fare Cabin Embarked  Gender  \n",
       "0        0         A/5 21171   7.2500   NaN        S       0  \n",
       "1        0          PC 17599  71.2833   C85        C       1  \n",
       "2        0  STON/O2. 3101282   7.9250   NaN        S       1  \n",
       "3        0            113803  53.1000  C123        S       1  \n",
       "4        0            373450   8.0500   NaN        S       0  \n",
       "..     ...               ...      ...   ...      ...     ...  \n",
       "886      0            211536  13.0000   NaN        S       0  \n",
       "887      0            112053  30.0000   B42        S       1  \n",
       "888      2        W./C. 6607  23.4500   NaN        S       1  \n",
       "889      0            111369  30.0000  C148        C       0  \n",
       "890      0            370376   7.7500   NaN        Q       0  \n",
       "\n",
       "[891 rows x 13 columns]"
      ]
     },
     "execution_count": 319,
     "metadata": {},
     "output_type": "execute_result"
    }
   ],
   "source": [
    "Gender={'female':1,'male':0}\n",
    "Gender=train_df['Sex'].map(Gender)\n",
    "train_df['Gender'] = Gender\n",
    "train_df"
   ]
  },
  {
   "cell_type": "code",
   "execution_count": 320,
   "id": "blond-aircraft",
   "metadata": {},
   "outputs": [
    {
     "data": {
      "text/plain": [
       "PassengerId    891\n",
       "Survived       891\n",
       "Pclass         891\n",
       "Name           891\n",
       "Sex            891\n",
       "Age            714\n",
       "SibSp          891\n",
       "Parch          891\n",
       "Ticket         891\n",
       "Fare           891\n",
       "Cabin          204\n",
       "Embarked       889\n",
       "Gender         891\n",
       "dtype: int64"
      ]
     },
     "execution_count": 320,
     "metadata": {},
     "output_type": "execute_result"
    }
   ],
   "source": [
    "train_df.count()"
   ]
  },
  {
   "cell_type": "code",
   "execution_count": 321,
   "id": "future-desert",
   "metadata": {},
   "outputs": [
    {
     "data": {
      "text/plain": [
       "0"
      ]
     },
     "execution_count": 321,
     "metadata": {},
     "output_type": "execute_result"
    }
   ],
   "source": [
    "train_df['Sex'].isnull().sum()"
   ]
  },
  {
   "cell_type": "markdown",
   "id": "charitable-energy",
   "metadata": {},
   "source": [
    "## Filling in the missing data in Age feature by generating random numbers between Mean and Standard Deviation. Also for embarked and Fare the most occuring value is used to fill in the missing values. "
   ]
  },
  {
   "cell_type": "code",
   "execution_count": 322,
   "id": "sublime-raising",
   "metadata": {},
   "outputs": [
    {
     "name": "stdout",
     "output_type": "stream",
     "text": [
      "29.69911764705882\n",
      "14.526497332334044\n"
     ]
    }
   ],
   "source": [
    "mean=train_df.mean()\n",
    "stnd=train_df.std()\n",
    "print(mean.Age)\n",
    "print(stnd.Age)"
   ]
  },
  {
   "cell_type": "code",
   "execution_count": 323,
   "id": "administrative-smooth",
   "metadata": {},
   "outputs": [
    {
     "data": {
      "text/plain": [
       "177"
      ]
     },
     "execution_count": 323,
     "metadata": {},
     "output_type": "execute_result"
    }
   ],
   "source": [
    "train_df['Age'].isnull().sum()"
   ]
  },
  {
   "cell_type": "code",
   "execution_count": 324,
   "id": "bored-despite",
   "metadata": {},
   "outputs": [
    {
     "name": "stdout",
     "output_type": "stream",
     "text": [
      "27.510879580546\n"
     ]
    }
   ],
   "source": [
    "filldata=np.random.uniform(mean.Age,stnd.Age)\n",
    "print(filldata)"
   ]
  },
  {
   "cell_type": "code",
   "execution_count": 325,
   "id": "metropolitan-wrapping",
   "metadata": {},
   "outputs": [
    {
     "data": {
      "text/plain": [
       "0      22.000000\n",
       "1      38.000000\n",
       "2      26.000000\n",
       "3      35.000000\n",
       "4      35.000000\n",
       "         ...    \n",
       "886    27.000000\n",
       "887    19.000000\n",
       "888    16.731881\n",
       "889    26.000000\n",
       "890    32.000000\n",
       "Name: Age, Length: 891, dtype: float64"
      ]
     },
     "execution_count": 325,
     "metadata": {},
     "output_type": "execute_result"
    }
   ],
   "source": [
    "train_df['Age'].fillna(value=np.random.uniform(mean.Age,stnd.Age))"
   ]
  },
  {
   "cell_type": "code",
   "execution_count": 326,
   "id": "polyphonic-animal",
   "metadata": {},
   "outputs": [
    {
     "data": {
      "text/plain": [
       "PassengerId    891\n",
       "Survived       891\n",
       "Pclass         891\n",
       "Name           891\n",
       "Sex            891\n",
       "Age            714\n",
       "SibSp          891\n",
       "Parch          891\n",
       "Ticket         891\n",
       "Fare           891\n",
       "Cabin          204\n",
       "Embarked       889\n",
       "Gender         891\n",
       "dtype: int64"
      ]
     },
     "execution_count": 326,
     "metadata": {},
     "output_type": "execute_result"
    }
   ],
   "source": [
    "train_df.count()"
   ]
  },
  {
   "cell_type": "code",
   "execution_count": 327,
   "id": "intense-processing",
   "metadata": {},
   "outputs": [
    {
     "name": "stdout",
     "output_type": "stream",
     "text": [
      "0    8.05\n",
      "dtype: float64\n",
      "0    S\n",
      "dtype: object\n"
     ]
    }
   ],
   "source": [
    "mode_Embarked=train_df['Embarked'].mode()\n",
    "mode_fare=train_df['Fare'].mode()\n",
    "print(mode_fare)\n",
    "print(mode_Embarked)"
   ]
  },
  {
   "cell_type": "code",
   "execution_count": 328,
   "id": "latin-chapel",
   "metadata": {},
   "outputs": [
    {
     "data": {
      "text/plain": [
       "0      S\n",
       "1      C\n",
       "2      S\n",
       "3      S\n",
       "4      S\n",
       "      ..\n",
       "886    S\n",
       "887    S\n",
       "888    S\n",
       "889    C\n",
       "890    Q\n",
       "Name: Embarked, Length: 891, dtype: object"
      ]
     },
     "execution_count": 328,
     "metadata": {},
     "output_type": "execute_result"
    }
   ],
   "source": [
    "train_df['Embarked'].fillna(value=mode_Embarked)"
   ]
  },
  {
   "cell_type": "code",
   "execution_count": 329,
   "id": "manual-graphics",
   "metadata": {},
   "outputs": [
    {
     "data": {
      "text/plain": [
       "0       7.2500\n",
       "1      71.2833\n",
       "2       7.9250\n",
       "3      53.1000\n",
       "4       8.0500\n",
       "        ...   \n",
       "886    13.0000\n",
       "887    30.0000\n",
       "888    23.4500\n",
       "889    30.0000\n",
       "890     7.7500\n",
       "Name: Fare, Length: 891, dtype: float64"
      ]
     },
     "execution_count": 329,
     "metadata": {},
     "output_type": "execute_result"
    }
   ],
   "source": [
    "train_df['Fare'].fillna(value=mode_fare)"
   ]
  },
  {
   "cell_type": "code",
   "execution_count": 334,
   "id": "important-advocate",
   "metadata": {},
   "outputs": [
    {
     "data": {
      "text/plain": [
       "0"
      ]
     },
     "execution_count": 334,
     "metadata": {},
     "output_type": "execute_result"
    }
   ],
   "source": [
    "train_df['Fare'].isnull().sum()"
   ]
  },
  {
   "cell_type": "markdown",
   "id": "charged-arctic",
   "metadata": {},
   "source": [
    "## Fare feature to ordinal values based on the FareBand Given"
   ]
  },
  {
   "cell_type": "code",
   "execution_count": 331,
   "id": "sublime-structure",
   "metadata": {},
   "outputs": [
    {
     "data": {
      "text/plain": [
       "(0, 8]        226\n",
       "(15, 32]      222\n",
       "(8, 15]       217\n",
       "(32, 100]     158\n",
       "(100, 600]     53\n",
       "Name: Fare, dtype: int64"
      ]
     },
     "execution_count": 331,
     "metadata": {},
     "output_type": "execute_result"
    }
   ],
   "source": [
    "pd.cut(train_df['Fare'], bins=[0, 8, 15, 32, 100, 600]).value_counts()"
   ]
  },
  {
   "cell_type": "code",
   "execution_count": 332,
   "id": "disturbed-essay",
   "metadata": {},
   "outputs": [
    {
     "data": {
      "text/html": [
       "<div>\n",
       "<style scoped>\n",
       "    .dataframe tbody tr th:only-of-type {\n",
       "        vertical-align: middle;\n",
       "    }\n",
       "\n",
       "    .dataframe tbody tr th {\n",
       "        vertical-align: top;\n",
       "    }\n",
       "\n",
       "    .dataframe thead th {\n",
       "        text-align: right;\n",
       "    }\n",
       "</style>\n",
       "<table border=\"1\" class=\"dataframe\">\n",
       "  <thead>\n",
       "    <tr style=\"text-align: right;\">\n",
       "      <th></th>\n",
       "      <th>FareBand</th>\n",
       "      <th>Survived</th>\n",
       "    </tr>\n",
       "  </thead>\n",
       "  <tbody>\n",
       "    <tr>\n",
       "      <th>0</th>\n",
       "      <td>(-0.001, 7.91]</td>\n",
       "      <td>0.197309</td>\n",
       "    </tr>\n",
       "    <tr>\n",
       "      <th>1</th>\n",
       "      <td>(7.91, 14.454]</td>\n",
       "      <td>0.303571</td>\n",
       "    </tr>\n",
       "    <tr>\n",
       "      <th>2</th>\n",
       "      <td>(14.454, 31.0]</td>\n",
       "      <td>0.454955</td>\n",
       "    </tr>\n",
       "    <tr>\n",
       "      <th>3</th>\n",
       "      <td>(31.0, 512.329]</td>\n",
       "      <td>0.581081</td>\n",
       "    </tr>\n",
       "  </tbody>\n",
       "</table>\n",
       "</div>"
      ],
      "text/plain": [
       "          FareBand  Survived\n",
       "0   (-0.001, 7.91]  0.197309\n",
       "1   (7.91, 14.454]  0.303571\n",
       "2   (14.454, 31.0]  0.454955\n",
       "3  (31.0, 512.329]  0.581081"
      ]
     },
     "execution_count": 332,
     "metadata": {},
     "output_type": "execute_result"
    }
   ],
   "source": [
    "train_df['FareBand'] = pd.qcut(train_df['Fare'], 4)\n",
    "train_df[['FareBand', 'Survived']].groupby(['FareBand'], as_index=False).mean().sort_values(by='FareBand', ascending=True)"
   ]
  },
  {
   "cell_type": "code",
   "execution_count": 333,
   "id": "revolutionary-crack",
   "metadata": {},
   "outputs": [],
   "source": [
    "#train_df.describe().transpose()[['mean', 'std']]"
   ]
  }
 ],
 "metadata": {
  "kernelspec": {
   "display_name": "Python 3",
   "language": "python",
   "name": "python3"
  },
  "language_info": {
   "codemirror_mode": {
    "name": "ipython",
    "version": 3
   },
   "file_extension": ".py",
   "mimetype": "text/x-python",
   "name": "python",
   "nbconvert_exporter": "python",
   "pygments_lexer": "ipython3",
   "version": "3.8.5"
  }
 },
 "nbformat": 4,
 "nbformat_minor": 5
}
